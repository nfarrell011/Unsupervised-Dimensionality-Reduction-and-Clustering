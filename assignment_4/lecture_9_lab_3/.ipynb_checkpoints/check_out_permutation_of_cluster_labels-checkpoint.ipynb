{
 "cells": [
  {
   "cell_type": "code",
   "execution_count": null,
   "id": "d32b548f-0d65-4228-99bd-6b350a0b3853",
   "metadata": {},
   "outputs": [],
   "source": [
    "from pathlib import Path\n",
    "import sys\n",
    "import time\n",
    "import os\n",
    "import numpy as np\n",
    "import datetime\n",
    "import itertools\n",
    "import pandas as pd\n",
    "\n",
    "import seaborn as sns\n",
    "import matplotlib.pyplot as plt\n",
    "\n",
    "from sklearn import metrics"
   ]
  },
  {
   "cell_type": "markdown",
   "id": "bd611215-1d12-4750-97b6-06981f3ee2cd",
   "metadata": {},
   "source": [
    "# set up for imports of .py modules by adding path to sys.path"
   ]
  },
  {
   "cell_type": "code",
   "execution_count": null,
   "id": "9ca93c33-3c4c-440c-9d99-7e10c4f36ab9",
   "metadata": {},
   "outputs": [],
   "source": [
    "path = Path(os.getcwd())\n",
    "path = str(path)\n",
    "print(path)\n",
    "sys.path.insert(1, path)"
   ]
  },
  {
   "cell_type": "code",
   "execution_count": null,
   "id": "f7c72855-a50f-4ba0-a73f-e809e45816ea",
   "metadata": {},
   "outputs": [],
   "source": [
    "import utils.external_indices as ei\n",
    "import utils.make_clustering_data_sets as mcds"
   ]
  },
  {
   "cell_type": "markdown",
   "id": "195e6c90-0387-4ad9-b402-d8a9f866145a",
   "metadata": {},
   "source": [
    "# set up to time script run time"
   ]
  },
  {
   "cell_type": "code",
   "execution_count": null,
   "id": "81be7609-c90e-450a-911d-ea40f3db06a6",
   "metadata": {},
   "outputs": [],
   "source": [
    "start = time.time()"
   ]
  },
  {
   "cell_type": "markdown",
   "id": "7c53ea61-8208-4235-8c79-0c4e226f6a91",
   "metadata": {},
   "source": [
    "# helpful functions"
   ]
  },
  {
   "cell_type": "code",
   "execution_count": null,
   "id": "99386cbe-1c81-42c1-acc5-5769abe02e45",
   "metadata": {},
   "outputs": [],
   "source": [
    "def print_out(labels_true, labels_pred):\n",
    "    print(f'\\nlabels_true = {labels_true}')\n",
    "    print(f'labels_pred = {labels_pred}')\n",
    "    print(f'\\nlabels_true has {len(set(labels_true))} classes: {set(labels_true)} - these form the rows of the contingency matrix')\n",
    "    print(f'labels_pred has {len(set(labels_pred))} clusters: {set(labels_pred)} - these form the columns of the contingency matrix')"
   ]
  },
  {
   "cell_type": "markdown",
   "id": "dd6f429b-0b8c-4f31-9282-78cec04deddb",
   "metadata": {},
   "source": [
    "# create true and predicted label data"
   ]
  },
  {
   "cell_type": "code",
   "execution_count": null,
   "id": "85ff966c-4ec4-4638-bc38-c566cb5cc65d",
   "metadata": {},
   "outputs": [],
   "source": [
    "labels_true = [0, 0, 1, 1, 2, 2]  # labels from human annotation culled from a classification data set\n",
    "labels_pred = [0, 0, 1, 1, 0, 2]  # labels from clustering"
   ]
  },
  {
   "cell_type": "markdown",
   "id": "50a6f1d7-d0c6-4d19-aeaa-42c80dde9b31",
   "metadata": {},
   "source": [
    "# check out permutation of cluster labels"
   ]
  },
  {
   "cell_type": "code",
   "execution_count": null,
   "id": "189e37f9-96df-4820-9dcd-8f2d59955904",
   "metadata": {},
   "outputs": [],
   "source": [
    "print_out(labels_true, labels_pred)"
   ]
  },
  {
   "cell_type": "code",
   "execution_count": null,
   "id": "8cb3fb78-2356-4a0b-939a-3dfc3bf6f424",
   "metadata": {},
   "outputs": [],
   "source": [
    "return_dict = ei.check_out_permutation_of_cluster_labels(labels_pred, labels_true, print_out=False)\n",
    "results_df = return_dict['results_df']\n",
    "results_df"
   ]
  },
  {
   "cell_type": "markdown",
   "id": "dfedbc3b-6391-4d9c-a57f-a24da7de53d0",
   "metadata": {},
   "source": [
    "# get the best cluster label permutation"
   ]
  },
  {
   "cell_type": "code",
   "execution_count": null,
   "id": "ec30a97c-222c-4e47-bb17-c571b8828a66",
   "metadata": {},
   "outputs": [],
   "source": [
    "return_dict = ei.get_best_cluster_label_permutation(labels_pred, labels_true, print_out=False)\n",
    "best_contingency_matrix = return_dict['best_contingency_matrix']\n",
    "best_contingency_matrix"
   ]
  },
  {
   "cell_type": "markdown",
   "id": "db68580f-1d7f-4d40-a047-843ceed71298",
   "metadata": {},
   "source": [
    "# time to run script"
   ]
  },
  {
   "cell_type": "code",
   "execution_count": null,
   "id": "2f813193-712f-4e19-95b8-e830bab5c167",
   "metadata": {},
   "outputs": [],
   "source": [
    "end = time.time()\n",
    "print(f'script run time: {(end - start)/60} minutes')"
   ]
  }
 ],
 "metadata": {
  "kernelspec": {
   "display_name": "Python (usml_base_ds)",
   "language": "python",
   "name": "usml_base_ds"
  },
  "language_info": {
   "codemirror_mode": {
    "name": "ipython",
    "version": 3
   },
   "file_extension": ".py",
   "mimetype": "text/x-python",
   "name": "python",
   "nbconvert_exporter": "python",
   "pygments_lexer": "ipython3",
   "version": "3.10.13"
  }
 },
 "nbformat": 4,
 "nbformat_minor": 5
}
