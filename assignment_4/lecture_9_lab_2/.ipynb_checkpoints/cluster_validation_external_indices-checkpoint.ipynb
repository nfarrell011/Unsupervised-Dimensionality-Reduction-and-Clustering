{
 "cells": [
  {
   "cell_type": "code",
   "execution_count": null,
   "id": "d2289365-89a5-452d-8ec9-ac0f9c82420f",
   "metadata": {},
   "outputs": [],
   "source": [
    "from sklearn.cluster import DBSCAN\n",
    "from sklearn.datasets import make_moons\n",
    "\n",
    "import numpy as np\n",
    "import pandas as pd\n",
    "\n",
    "import matplotlib.pyplot as plt\n",
    "import seaborn as sns\n",
    "\n",
    "from sklearn.neighbors import KNeighborsClassifier\n",
    "\n",
    "from pathlib import Path\n",
    "import os\n",
    "import sys\n",
    "\n",
    "from scipy.spatial.distance import euclidean\n",
    "\n",
    "import hdbscan.validity as dbcv_hdbscan"
   ]
  },
  {
   "cell_type": "markdown",
   "id": "c976f756-722c-48ae-85ca-344014cade53",
   "metadata": {},
   "source": [
    "# set up for imports of .py modules by adding path to sys.path"
   ]
  },
  {
   "cell_type": "code",
   "execution_count": null,
   "id": "43b79ef3-475d-4fda-a4b0-1c17116186d1",
   "metadata": {},
   "outputs": [],
   "source": [
    "path = Path(os.getcwd())\n",
    "path = str(path)\n",
    "print(path)\n",
    "sys.path.insert(1, path)"
   ]
  },
  {
   "cell_type": "code",
   "execution_count": null,
   "id": "b8fb6a10-8e4c-439f-a0c2-2f684b819f2f",
   "metadata": {},
   "outputs": [],
   "source": [
    "import utils.make_clustering_data_sets as mcds\n",
    "import utils.clustering_flows as cf\n",
    "import utils.external_indices as ei"
   ]
  },
  {
   "cell_type": "markdown",
   "id": "8e0b0779-94d1-48ef-b4f3-cb64dde1158c",
   "metadata": {},
   "source": [
    "# helpful functions"
   ]
  },
  {
   "cell_type": "markdown",
   "id": "cdfcaf84-085c-487e-a86e-09974524e984",
   "metadata": {},
   "source": [
    "# make some data sets"
   ]
  },
  {
   "cell_type": "code",
   "execution_count": null,
   "id": "899ee6b9-f9bc-426c-bdeb-ef3638fbfdc1",
   "metadata": {
    "scrolled": true
   },
   "outputs": [],
   "source": [
    "data_set_dicts = mcds.make_data_sets_to_demo_cluster_validation(\n",
    "    noisy_moons=True, \n",
    "    well_separated=True, \n",
    "    center_based=True\n",
    ")"
   ]
  },
  {
   "cell_type": "code",
   "execution_count": null,
   "id": "d436789f-1030-4730-8bb2-4212a28aa8c9",
   "metadata": {},
   "outputs": [],
   "source": [
    "print(len(data_set_dicts.keys()))\n",
    "data_set_dicts.keys()"
   ]
  },
  {
   "cell_type": "code",
   "execution_count": null,
   "id": "2e08a78d-a0f1-4a69-8ece-48e6962de827",
   "metadata": {},
   "outputs": [],
   "source": [
    "list(data_set_dicts.keys())[0]"
   ]
  },
  {
   "cell_type": "code",
   "execution_count": null,
   "id": "f860f605-935d-4f82-8eda-62ac3b6375be",
   "metadata": {},
   "outputs": [],
   "source": [
    "data_set_dicts[list(data_set_dicts.keys())[0]].keys()"
   ]
  },
  {
   "cell_type": "code",
   "execution_count": null,
   "id": "0172590b-2cd5-4191-abdb-ad74fc5c2bb2",
   "metadata": {},
   "outputs": [],
   "source": [
    "data_set_dicts[list(data_set_dicts.keys())[0]]"
   ]
  },
  {
   "cell_type": "markdown",
   "id": "5bc5f497-bb17-49b7-8eeb-d757009bba6a",
   "metadata": {},
   "source": [
    "# cluster the data sets"
   ]
  },
  {
   "cell_type": "code",
   "execution_count": null,
   "id": "f0e8ae9e-0edd-48b9-9025-7a4aac706695",
   "metadata": {
    "scrolled": true
   },
   "outputs": [],
   "source": [
    "results_df = cf.clustering_flow_1_test_1(data_set_dicts, enhanced_k_means=True)"
   ]
  },
  {
   "cell_type": "code",
   "execution_count": null,
   "id": "0808f983-ad30-4607-bf0f-70c872454a54",
   "metadata": {},
   "outputs": [],
   "source": [
    "results_df"
   ]
  },
  {
   "cell_type": "markdown",
   "id": "97de7a77-17b6-4d9b-b01a-a2c0af5dfd93",
   "metadata": {},
   "source": [
    "# cluster validation using external indices"
   ]
  },
  {
   "cell_type": "code",
   "execution_count": null,
   "id": "8d9feadb-d438-4b6b-ae48-f92a5cdb3aa0",
   "metadata": {},
   "outputs": [],
   "source": [
    "df_row_dict_list = []\n",
    "for data_set_name, data_set_dict in data_set_dicts.items():\n",
    "\n",
    "    print(f'\\n', '*' * 80, sep='')\n",
    "    print(f'data_set_name: {data_set_name}')\n",
    "\n",
    "    cf.plot_the_data_sets(data_set_dict['cap_x'], data_set_dict['y'], data_set_name)\n",
    "\n",
    "    labels_true = data_set_dict['y']\n",
    "    labels_pred = results_df.loc[results_df.data_set_name == data_set_name, 'cluster_labels'].values[0]\n",
    "    algo = results_df.loc[results_df.data_set_name == data_set_name, 'algo'].values[0]\n",
    "\n",
    "    print(algo)\n",
    "    if algo == 'dbscan':\n",
    "        return_dict = ei.remove_noise_data_objects_from_labels(labels_pred, labels_true)\n",
    "        labels_pred = return_dict['labels_pred']\n",
    "        labels_true = return_dict['labels_true']\n",
    "        \n",
    "    results_dict = ei.external_indices_taught_spring_24(labels_pred, labels_true, print_out=True)\n",
    "    df_row_dict = results_dict['df_row_dict']\n",
    "    df_row_dict['data_set_name'] = data_set_name\n",
    "    df_row_dict_list.append(results_dict['df_row_dict'])\n",
    "\n",
    "ei_results_df = pd.DataFrame(df_row_dict_list)"
   ]
  },
  {
   "cell_type": "code",
   "execution_count": null,
   "id": "32f647a5-3ed3-40f1-996e-16c103393438",
   "metadata": {},
   "outputs": [],
   "source": [
    "ei_results_df"
   ]
  },
  {
   "cell_type": "markdown",
   "id": "426f7a19-452e-49d5-8176-d5936576fcce",
   "metadata": {},
   "source": [
    "# join the external indices results to the results data frame from clustering"
   ]
  },
  {
   "cell_type": "code",
   "execution_count": null,
   "id": "6a59e9ac-bf52-4250-bfc8-47d56acece54",
   "metadata": {},
   "outputs": [],
   "source": [
    "results_df = pd.merge(results_df, ei_results_df, on='data_set_name')\n",
    "results_df"
   ]
  },
  {
   "cell_type": "markdown",
   "id": "0e5db015-091e-4df3-b065-82575d1e7b45",
   "metadata": {},
   "source": [
    "# let's check out the results"
   ]
  },
  {
   "cell_type": "markdown",
   "id": "f0838cf1-111f-41ea-9753-74e62b1b1e62",
   "metadata": {},
   "source": [
    "### moons"
   ]
  },
  {
   "cell_type": "code",
   "execution_count": null,
   "id": "23a19604-ad6f-4d93-b86d-00a599eef1b0",
   "metadata": {},
   "outputs": [],
   "source": [
    "data_set_type = 'moons'\n",
    "temp_results_df = results_df.loc[results_df.data_set_type == data_set_type, \n",
    "                                ['data_set_name', 'algo', 'spec_type', 'spec_value', 'contingency_matrix',\n",
    "                                 'validity_index', 'silhouette_score', 'rand_score', 'adjusted_rand_score']]\n",
    "temp_results_df = (\n",
    "    pd.melt(\n",
    "        temp_results_df, \n",
    "        id_vars=['data_set_name', 'algo', 'spec_type', 'spec_value', 'contingency_matrix'],\n",
    "        value_vars=['validity_index', 'silhouette_score', 'rand_score', 'adjusted_rand_score'],\n",
    "        var_name='external_index'\n",
    "    )\n",
    ")\n",
    "\n",
    "temp_results_df = temp_results_df.dropna(subset=['value'])\n",
    "temp_results_df.head()"
   ]
  },
  {
   "cell_type": "code",
   "execution_count": null,
   "id": "7fdc391f-4de9-4dd0-baf7-931cebf346c3",
   "metadata": {},
   "outputs": [],
   "source": [
    "for data_set_name in temp_results_df.data_set_name.unique():\n",
    "    contingency_matrix = temp_results_df.loc[temp_results_df.data_set_name == data_set_name, 'contingency_matrix'].values[0]\n",
    "    print(f'\\n', '*' * 80, sep='')\n",
    "    print(f'data_set_name: {data_set_name}\\n')\n",
    "    print(f'\\nclasses - form the rows of the contingency matrix')\n",
    "    print(f'clusters - form the columns of the contingency matrix\\n')\n",
    "    print(contingency_matrix)\n",
    "    \n",
    "sns.scatterplot(data=temp_results_df, x='spec_value', y='value', hue='external_index', style='algo')\n",
    "plt.legend(loc='center left', bbox_to_anchor=(1, 0.5))\n",
    "spec_type = temp_results_df.spec_type.values[0]\n",
    "plt.title(f'data_set_type: {data_set_type}\\nspec_type: {spec_type}')\n",
    "plt.grid()\n",
    "plt.show()"
   ]
  },
  {
   "cell_type": "markdown",
   "id": "c7f685ff-1c9e-4ffd-9792-5c302ae8821c",
   "metadata": {},
   "source": [
    "### well_separated"
   ]
  },
  {
   "cell_type": "code",
   "execution_count": null,
   "id": "6a6a8a67-6c84-4a87-b075-451945ee4ba7",
   "metadata": {},
   "outputs": [],
   "source": [
    "data_set_type = 'well_separated'\n",
    "temp_results_df = results_df.loc[results_df.data_set_type == data_set_type, \n",
    "                                ['data_set_name', 'algo', 'spec_type', 'spec_value', 'contingency_matrix',\n",
    "                                 'validity_index', 'silhouette_score', 'rand_score', 'adjusted_rand_score']]\n",
    "temp_results_df = (\n",
    "    pd.melt(\n",
    "        temp_results_df, \n",
    "        id_vars=['data_set_name', 'algo', 'spec_type', 'spec_value', 'contingency_matrix'],\n",
    "        value_vars=['validity_index', 'silhouette_score', 'rand_score', 'adjusted_rand_score'],\n",
    "        var_name='external_index'\n",
    "    )\n",
    ")\n",
    "\n",
    "temp_results_df = temp_results_df.dropna(subset=['value'])\n",
    "temp_results_df.head()"
   ]
  },
  {
   "cell_type": "code",
   "execution_count": null,
   "id": "757973bb-9cc9-4455-b98b-a5a1c1097a80",
   "metadata": {},
   "outputs": [],
   "source": [
    "temp_results_df = temp_results_df.sort_values('spec_value', ascending=False)\n",
    "\n",
    "for data_set_name in temp_results_df.data_set_name.unique():\n",
    "    contingency_matrix = temp_results_df.loc[temp_results_df.data_set_name == data_set_name, 'contingency_matrix'].values[0]\n",
    "    print(f'\\n', '*' * 80, sep='')\n",
    "    print(f'data_set_name: {data_set_name}\\n')\n",
    "    print(f'\\nclasses - form the rows of the contingency matrix')\n",
    "    print(f'clusters - form the columns of the contingency matrix\\n')\n",
    "    print(contingency_matrix)\n",
    "    \n",
    "sns.scatterplot(data=temp_results_df, x='spec_value', y='value', hue='external_index', style='algo')\n",
    "plt.legend(loc='center left', bbox_to_anchor=(1, 0.5))\n",
    "spec_type = temp_results_df.spec_type.values[0]\n",
    "plt.title(f'data_set_type: {data_set_type}\\nspec_type: {spec_type}')\n",
    "plt.grid()\n",
    "plt.show()"
   ]
  }
 ],
 "metadata": {
  "kernelspec": {
   "display_name": "Python (usml_base_ds)",
   "language": "python",
   "name": "usml_base_ds"
  },
  "language_info": {
   "codemirror_mode": {
    "name": "ipython",
    "version": 3
   },
   "file_extension": ".py",
   "mimetype": "text/x-python",
   "name": "python",
   "nbconvert_exporter": "python",
   "pygments_lexer": "ipython3",
   "version": "3.10.13"
  }
 },
 "nbformat": 4,
 "nbformat_minor": 5
}
